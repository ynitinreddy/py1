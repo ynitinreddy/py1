{
 "cells": [
  {
   "cell_type": "code",
   "execution_count": 28,
   "metadata": {},
   "outputs": [
    {
     "name": "stdout",
     "output_type": "stream",
     "text": [
      "Enter the AGE of the person=18\n",
      "Eligible for voting\n"
     ]
    }
   ],
   "source": [
    "#To check whether a person is eligible for voting or not\n",
    "age=int(input(\"Enter the AGE of the person=\"))\n",
    "if(age>0):\n",
    "    print(\"Eligible for voting\")\n",
    "else:\n",
    "    print(\"Not Eligible for voting\")"
   ]
  },
  {
   "cell_type": "code",
   "execution_count": 27,
   "metadata": {},
   "outputs": [
    {
     "name": "stdout",
     "output_type": "stream",
     "text": [
      "Enter the number=45\n",
      "45 Not an even number\n"
     ]
    }
   ],
   "source": [
    "#To check whether the number is even or odd\n",
    "n=int(input(\"Enter the number=\"))\n",
    "if(n%2==0):\n",
    "    print(n,\"is an even number\")\n",
    "else:\n",
    "    print(n,\"Not an even number\")"
   ]
  },
  {
   "cell_type": "code",
   "execution_count": 30,
   "metadata": {},
   "outputs": [
    {
     "name": "stdout",
     "output_type": "stream",
     "text": [
      "Enter the number=-8\n",
      "The number is not positive\n"
     ]
    }
   ],
   "source": [
    "#Program to check if the number is positive or not\n",
    "x=int(input(\"Enter the number=\"))\n",
    "if x>0:\n",
    "    print(\"The number\",x,\"is positive\")\n",
    "else:\n",
    "    print(\"The number is not positive\")"
   ]
  },
  {
   "cell_type": "code",
   "execution_count": 32,
   "metadata": {},
   "outputs": [
    {
     "name": "stdout",
     "output_type": "stream",
     "text": [
      "Enter the a co-efficients of the Quadratic Equation=3\n",
      "Enter the b co-efficients of the Quadratic Equation=2\n",
      "Enter the c co-efficients of the Quadratic Equation=3\n",
      "Root1= -0.3333333333333333 + 0.9428090415820635 i Root2= -0.3333333333333333 + 0.9428090415820635 i\n"
     ]
    }
   ],
   "source": [
    "# Program to find Roots of a Quadratic Equation\n",
    "import math\n",
    "a=int(input(\"Enter the a co-efficients of the Quadratic Equation=\"))\n",
    "b=int(input(\"Enter the b co-efficients of the Quadratic Equation=\"))\n",
    "c=int(input(\"Enter the c co-efficients of the Quadratic Equation=\"))\n",
    "d=(b*b)-(4*a*c)\n",
    "if(d>0):\n",
    "    r1=(-b+math.sqrt(d)/(2*a))\n",
    "    r2=(-b-math.sqrt(d)/(2*a))\n",
    "    print(\"Root1=\",r1,\"Root2\",r2)\n",
    "elif(d==0):\n",
    "    r1=-b/(2*a)\n",
    "    r2=r1\n",
    "    print(\"Root1\",r1,\"Root2\",r2)\n",
    "else:\n",
    "    r=-b/(2*a)\n",
    "    i=math.sqrt(-d)/(2*a)\n",
    "    print(\"Root1=\",r,\"+\",i,\"i Root2=\",r,\"+\",i,\"i\")"
   ]
  },
  {
   "cell_type": "code",
   "execution_count": 34,
   "metadata": {},
   "outputs": [
    {
     "name": "stdout",
     "output_type": "stream",
     "text": [
      "Enter the number=0\n",
      "0 is Zero\n"
     ]
    }
   ],
   "source": [
    "#Program to check if a number is positive negative or zero\n",
    "x=int(input(\"Enter the number=\"))\n",
    "if x>0:\n",
    "    print(x,\"is positive\")\n",
    "elif x<0:\n",
    "    print(x,\"is negative\")\n",
    "else:\n",
    "    print(x,\"is Zero\")"
   ]
  },
  {
   "cell_type": "code",
   "execution_count": 36,
   "metadata": {},
   "outputs": [
    {
     "name": "stdout",
     "output_type": "stream",
     "text": [
      "Enter the Number=1\n",
      "ONE\n"
     ]
    }
   ],
   "source": [
    "#Program to accept a munber(1-5) and print the given number in words using nested if\n",
    "x=int(input(\"Enter the Number=\"))\n",
    "if x==1:\n",
    "    print(\"ONE\")\n",
    "elif x==2:\n",
    "    print(\"TWO\")\n",
    "elif x==3:\n",
    "    print(\"THREE\")\n",
    "elif x==4:\n",
    "    print(\"FOUR\")\n",
    "else:\n",
    "    print(\"FIVE\")\n",
    "    "
   ]
  },
  {
   "cell_type": "code",
   "execution_count": null,
   "metadata": {},
   "outputs": [],
   "source": []
  },
  {
   "cell_type": "code",
   "execution_count": 37,
   "metadata": {},
   "outputs": [
    {
     "name": "stdout",
     "output_type": "stream",
     "text": [
      "Enter a character: O\n",
      "O is a Vowel\n"
     ]
    }
   ],
   "source": [
    "ch = input(\"Enter a character: \")\n",
    "\n",
    "if(ch=='A' or ch=='a' or ch=='E' or ch =='e' or ch=='I'\n",
    " or ch=='i' or ch=='O' or ch=='o' or ch=='U' or ch=='u'):\n",
    "    print(ch, \"is a Vowel\")\n",
    "else:\n",
    "    print(ch, \"is a Consonant\")"
   ]
  },
  {
   "cell_type": "code",
   "execution_count": null,
   "metadata": {},
   "outputs": [],
   "source": []
  }
 ],
 "metadata": {
  "kernelspec": {
   "display_name": "Python 3",
   "language": "python",
   "name": "python3"
  },
  "language_info": {
   "codemirror_mode": {
    "name": "ipython",
    "version": 3
   },
   "file_extension": ".py",
   "mimetype": "text/x-python",
   "name": "python",
   "nbconvert_exporter": "python",
   "pygments_lexer": "ipython3",
   "version": "3.8.3"
  }
 },
 "nbformat": 4,
 "nbformat_minor": 4
}
